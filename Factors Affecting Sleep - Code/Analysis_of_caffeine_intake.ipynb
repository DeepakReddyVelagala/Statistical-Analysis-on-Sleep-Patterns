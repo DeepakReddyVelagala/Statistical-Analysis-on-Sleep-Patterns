{
  "nbformat": 4,
  "nbformat_minor": 0,
  "metadata": {
    "colab": {
      "name": "Copy of Untitled3.ipynb",
      "provenance": []
    },
    "kernelspec": {
      "name": "python3",
      "display_name": "Python 3"
    },
    "language_info": {
      "name": "python"
    }
  },
  "cells": [
    {
      "cell_type": "markdown",
      "source": [
        "## Imports"
      ],
      "metadata": {
        "id": "p7VcNtBJEM5W"
      }
    },
    {
      "cell_type": "code",
      "source": [
        "import numpy as np\n",
        "import random\n",
        "import math\n",
        "import pandas as pd\n",
        "import seaborn as sns\n",
        "from scipy.stats import norm,t,f\n",
        "import statistics\n",
        "import matplotlib.pyplot as plt"
      ],
      "metadata": {
        "id": "I8e4-iQSDtlU"
      },
      "execution_count": null,
      "outputs": []
    },
    {
      "cell_type": "markdown",
      "source": [
        "## Data Cleaning"
      ],
      "metadata": {
        "id": "ohnWoRdSD8Zb"
      }
    },
    {
      "cell_type": "code",
      "execution_count": null,
      "metadata": {
        "colab": {
          "base_uri": "https://localhost:8080/",
          "height": 768
        },
        "id": "La0ValJnohu0",
        "outputId": "1ff3f31c-2b93-4d90-e860-66c8649cd3bf"
      },
      "outputs": [
        {
          "output_type": "display_data",
          "data": {
            "text/plain": [
              "<Figure size 576x576 with 1 Axes>"
            ],
            "image/png": "[encoded data removed]"
          },
          "metadata": {
            "needs_background": "light"
          }
        },
        {
          "output_type": "execute_result",
          "data": {
            "text/plain": [
              "       How much sleep do you get in a day?         TOS\n",
              "count                           132.000000  132.000000\n",
              "mean                              6.641714   15.201515\n",
              "std                               1.256754    5.004600\n",
              "min                               3.199589    1.000000\n",
              "25%                               6.080173   13.000000\n",
              "50%                               6.472127   14.000000\n",
              "75%                               6.926733   16.000000\n",
              "max                               9.958100   24.500000"
            ],
            "text/html": [
              "\n",
              "  <div id=\"df-164d921b-b939-48d5-a206-5ff3379d024b\">\n",
              "    <div class=\"colab-df-container\">\n",
              "      <div>\n",
              "<style scoped>\n",
              "    .dataframe tbody tr th:only-of-type {\n",
              "        vertical-align: middle;\n",
              "    }\n",
              "\n",
              "    .dataframe tbody tr th {\n",
              "        vertical-align: top;\n",
              "    }\n",
              "\n",
              "    .dataframe thead th {\n",
              "        text-align: right;\n",
              "    }\n",
              "</style>\n",
              "<table border=\"1\" class=\"dataframe\">\n",
              "  <thead>\n",
              "    <tr style=\"text-align: right;\">\n",
              "      <th></th>\n",
              "      <th>How much sleep do you get in a day?</th>\n",
              "      <th>TOS</th>\n",
              "    </tr>\n",
              "  </thead>\n",
              "  <tbody>\n",
              "    <tr>\n",
              "      <th>count</th>\n",
              "      <td>132.000000</td>\n",
              "      <td>132.000000</td>\n",
              "    </tr>\n",
              "    <tr>\n",
              "      <th>mean</th>\n",
              "      <td>6.641714</td>\n",
              "      <td>15.201515</td>\n",
              "    </tr>\n",
              "    <tr>\n",
              "      <th>std</th>\n",
              "      <td>1.256754</td>\n",
              "      <td>5.004600</td>\n",
              "    </tr>\n",
              "    <tr>\n",
              "      <th>min</th>\n",
              "      <td>3.199589</td>\n",
              "      <td>1.000000</td>\n",
              "    </tr>\n",
              "    <tr>\n",
              "      <th>25%</th>\n",
              "      <td>6.080173</td>\n",
              "      <td>13.000000</td>\n",
              "    </tr>\n",
              "    <tr>\n",
              "      <th>50%</th>\n",
              "      <td>6.472127</td>\n",
              "      <td>14.000000</td>\n",
              "    </tr>\n",
              "    <tr>\n",
              "      <th>75%</th>\n",
              "      <td>6.926733</td>\n",
              "      <td>16.000000</td>\n",
              "    </tr>\n",
              "    <tr>\n",
              "      <th>max</th>\n",
              "      <td>9.958100</td>\n",
              "      <td>24.500000</td>\n",
              "    </tr>\n",
              "  </tbody>\n",
              "</table>\n",
              "</div>\n",
              "      <button class=\"colab-df-convert\" onclick=\"convertToInteractive('df-164d921b-b939-48d5-a206-5ff3379d024b')\"\n",
              "              title=\"Convert this dataframe to an interactive table.\"\n",
              "              style=\"display:none;\">\n",
              "        \n",
              "  <svg xmlns=\"http://www.w3.org/2000/svg\" height=\"24px\"viewBox=\"0 0 24 24\"\n",
              "       width=\"24px\">\n",
              "    <path d=\"M0 0h24v24H0V0z\" fill=\"none\"/>\n",
              "    <path d=\"M18.56 5.44l.94 2.06.94-2.06 2.06-.94-2.06-.94-.94-2.06-.94 2.06-2.06.94zm-11 1L8.5 8.5l.94-2.06 2.06-.94-2.06-.94L8.5 2.5l-.94 2.06-2.06.94zm10 10l.94 2.06.94-2.06 2.06-.94-2.06-.94-.94-2.06-.94 2.06-2.06.94z\"/><path d=\"M17.41 7.96l-1.37-1.37c-.4-.4-.92-.59-1.43-.59-.52 0-1.04.2-1.43.59L10.3 9.45l-7.72 7.72c-.78.78-.78 2.05 0 2.83L4 21.41c.39.39.9.59 1.41.59.51 0 1.02-.2 1.41-.59l7.78-7.78 2.81-2.81c.8-.78.8-2.07 0-2.86zM5.41 20L4 18.59l7.72-7.72 1.47 1.35L5.41 20z\"/>\n",
              "  </svg>\n",
              "      </button>\n",
              "      \n",
              "  <style>\n",
              "    .colab-df-container {\n",
              "      display:flex;\n",
              "      flex-wrap:wrap;\n",
              "      gap: 12px;\n",
              "    }\n",
              "\n",
              "    .colab-df-convert {\n",
              "      background-color: #E8F0FE;\n",
              "      border: none;\n",
              "      border-radius: 50%;\n",
              "      cursor: pointer;\n",
              "      display: none;\n",
              "      fill: #1967D2;\n",
              "      height: 32px;\n",
              "      padding: 0 0 0 0;\n",
              "      width: 32px;\n",
              "    }\n",
              "\n",
              "    .colab-df-convert:hover {\n",
              "      background-color: #E2EBFA;\n",
              "      box-shadow: 0px 1px 2px rgba(60, 64, 67, 0.3), 0px 1px 3px 1px rgba(60, 64, 67, 0.15);\n",
              "      fill: #174EA6;\n",
              "    }\n",
              "\n",
              "    [theme=dark] .colab-df-convert {\n",
              "      background-color: #3B4455;\n",
              "      fill: #D2E3FC;\n",
              "    }\n",
              "\n",
              "    [theme=dark] .colab-df-convert:hover {\n",
              "      background-color: #434B5C;\n",
              "      box-shadow: 0px 1px 3px 1px rgba(0, 0, 0, 0.15);\n",
              "      filter: drop-shadow(0px 1px 2px rgba(0, 0, 0, 0.3));\n",
              "      fill: #FFFFFF;\n",
              "    }\n",
              "  </style>\n",
              "\n",
              "      <script>\n",
              "        const buttonEl =\n",
              "          document.querySelector('#df-164d921b-b939-48d5-a206-5ff3379d024b button.colab-df-convert');\n",
              "        buttonEl.style.display =\n",
              "          google.colab.kernel.accessAllowed ? 'block' : 'none';\n",
              "\n",
              "        async function convertToInteractive(key) {\n",
              "          const element = document.querySelector('#df-164d921b-b939-48d5-a206-5ff3379d024b');\n",
              "          const dataTable =\n",
              "            await google.colab.kernel.invokeFunction('convertToInteractive',\n",
              "                                                     [key], {});\n",
              "          if (!dataTable) return;\n",
              "\n",
              "          const docLinkHtml = 'Like what you see? Visit the ' +\n",
              "            '<a target=\"_blank\" href=https://colab.research.google.com/notebooks/data_table.ipynb>data table notebook</a>'\n",
              "            + ' to learn more about interactive tables.';\n",
              "          element.innerHTML = '';\n",
              "          dataTable['output_type'] = 'display_data';\n",
              "          await google.colab.output.renderOutput(dataTable, element);\n",
              "          const docLink = document.createElement('div');\n",
              "          docLink.innerHTML = docLinkHtml;\n",
              "          element.appendChild(docLink);\n",
              "        }\n",
              "      </script>\n",
              "    </div>\n",
              "  </div>\n",
              "  "
            ]
          },
          "metadata": {},
          "execution_count": 2
        }
      ],
      "source": [
        "data = pd.read_csv('/content/Factors effecting sleep (Responses) - Form Responses 1.csv')\n",
        "df = pd.DataFrame(data,columns=['How many times in a day, do you have caffeinated drinks or Tea?','How much sleep do you get in a day?','At what time do you sleep?'\t])\n",
        "# df = df.replace([\"6-7 hrs\",\"more than 8 hours\",\"4-5 hrs\",\"5-6 hrs\",\"less than 4 hours\"], [random.random()/10, random.randint(80, 100)/10, random.randrange(40, 50)/10, random.randrange(50, 60)/10, random.randrange(30, 40)/10], regex=True)\n",
        "# df.describe()\n",
        "# df['sleep hours'] = [random.seed(i) if df.loc[i,'How much sleep do you get in a day?'] == \"6-7 hrs\" random.randint(6,7) for i in range(df.count())]\n",
        "l = []\n",
        "for i in range(df.shape[0]):\n",
        "  random.seed(i) \n",
        "  if df.loc[i,'How much sleep do you get in a day?'] == \"6-7 hrs\":\n",
        "    l.append(random.uniform(6,7))\n",
        "  elif df.loc[i,'How much sleep do you get in a day?'] == \"more than 8 hours\":\n",
        "    l.append(random.uniform(8,10))\n",
        "  elif df.loc[i,'How much sleep do you get in a day?'] == \"4-5 hrs\":\n",
        "    l.append(random.uniform(4,5))\n",
        "  elif df.loc[i,'How much sleep do you get in a day?'] == \"5-6 hrs\":\n",
        "    l.append(random.uniform(5,6))\n",
        "  elif df.loc[i,'How much sleep do you get in a day?'] == \"less than 4 hours\":\n",
        "    l.append(random.uniform(3,4))\n",
        "df['How much sleep do you get in a day?'] = l\n",
        "def ifPM(s):\n",
        "  if s == 'AM':\n",
        "    return 12\n",
        "  else:\n",
        "    return 0\n",
        "df['TOS'] = [\n",
        "                int(df.loc[i,'At what time do you sleep?'].split(':')[0])+\n",
        "                int(df.loc[i,'At what time do you sleep?'].split(':')[1])/60 +\n",
        "                ifPM((df.loc[i,'At what time do you sleep?'].split(':')[2]).split()[1]) for i in range(df.shape[0])\n",
        "            ]\n",
        "df.drop(['At what time do you sleep?'], inplace = True, axis = 1)\n",
        "df_all = pd.DataFrame(df['How much sleep do you get in a day?'])\n",
        "plt.figure(figsize=(8,8))\n",
        "ax = sns.boxplot( y=\"How much sleep do you get in a day?\", data=df_all)\n",
        "plt.title('Number of Sleep Hours')\n",
        "plt.show()\n",
        "df.describe()"
      ]
    },
    {
      "cell_type": "markdown",
      "source": [
        "## Data and description for different amount of caffiene intakes"
      ],
      "metadata": {
        "id": "opXE_rB9Ei_c"
      }
    },
    {
      "cell_type": "code",
      "source": [
        "df0 = df.loc[df['How many times in a day, do you have caffeinated drinks or Tea?']=='No caffeine']\n",
        "df1 = df.loc[df['How many times in a day, do you have caffeinated drinks or Tea?']=='1 time, or less']\n",
        "df2 = df.loc[df['How many times in a day, do you have caffeinated drinks or Tea?']=='2 times a day']\n",
        "df3 = df.loc[df['How many times in a day, do you have caffeinated drinks or Tea?']=='3 times a day']\n",
        "df4 = df.loc[df['How many times in a day, do you have caffeinated drinks or Tea?']=='4 or more than 4 times a day']\n",
        "dff = pd.concat([df1,df3,df4])"
      ],
      "metadata": {
        "id": "0ZL8G-VAslLa"
      },
      "execution_count": null,
      "outputs": []
    },
    {
      "cell_type": "code",
      "source": [
        "n1 = df0.describe().iloc[0,1]\n",
        "m1 = df0.describe().iloc[1,1]\n",
        "s1 = df0.describe().iloc[2,1]\n",
        "N1 = df0.describe().iloc[0,0]\n",
        "M1 = df0.describe().iloc[1,0]\n",
        "S1 = df0.describe().iloc[2,0]\n",
        "df0.describe()"
      ],
      "metadata": {
        "id": "HDM56-b9sTPZ",
        "colab": {
          "base_uri": "https://localhost:8080/",
          "height": 300
        },
        "outputId": "182ef7cd-86ca-442d-b00e-3da6ce3fd1da"
      },
      "execution_count": null,
      "outputs": [
        {
          "output_type": "execute_result",
          "data": {
            "text/plain": [
              "       How much sleep do you get in a day?        TOS\n",
              "count                            46.000000  46.000000\n",
              "mean                              6.798549  15.278623\n",
              "std                               1.455183   5.180778\n",
              "min                               4.209851  10.000000\n",
              "25%                               5.942871  11.500000\n",
              "50%                               6.524550  13.291667\n",
              "75%                               8.097821  15.750000\n",
              "max                               9.819538  24.500000"
            ],
            "text/html": [
              "\n",
              "  <div id=\"df-8bf17614-5f68-48fe-b302-83daa73320f0\">\n",
              "    <div class=\"colab-df-container\">\n",
              "      <div>\n",
              "<style scoped>\n",
              "    .dataframe tbody tr th:only-of-type {\n",
              "        vertical-align: middle;\n",
              "    }\n",
              "\n",
              "    .dataframe tbody tr th {\n",
              "        vertical-align: top;\n",
              "    }\n",
              "\n",
              "    .dataframe thead th {\n",
              "        text-align: right;\n",
              "    }\n",
              "</style>\n",
              "<table border=\"1\" class=\"dataframe\">\n",
              "  <thead>\n",
              "    <tr style=\"text-align: right;\">\n",
              "      <th></th>\n",
              "      <th>How much sleep do you get in a day?</th>\n",
              "      <th>TOS</th>\n",
              "    </tr>\n",
              "  </thead>\n",
              "  <tbody>\n",
              "    <tr>\n",
              "      <th>count</th>\n",
              "      <td>46.000000</td>\n",
              "      <td>46.000000</td>\n",
              "    </tr>\n",
              "    <tr>\n",
              "      <th>mean</th>\n",
              "      <td>6.798549</td>\n",
              "      <td>15.278623</td>\n",
              "    </tr>\n",
              "    <tr>\n",
              "      <th>std</th>\n",
              "      <td>1.455183</td>\n",
              "      <td>5.180778</td>\n",
              "    </tr>\n",
              "    <tr>\n",
              "      <th>min</th>\n",
              "      <td>4.209851</td>\n",
              "      <td>10.000000</td>\n",
              "    </tr>\n",
              "    <tr>\n",
              "      <th>25%</th>\n",
              "      <td>5.942871</td>\n",
              "      <td>11.500000</td>\n",
              "    </tr>\n",
              "    <tr>\n",
              "      <th>50%</th>\n",
              "      <td>6.524550</td>\n",
              "      <td>13.291667</td>\n",
              "    </tr>\n",
              "    <tr>\n",
              "      <th>75%</th>\n",
              "      <td>8.097821</td>\n",
              "      <td>15.750000</td>\n",
              "    </tr>\n",
              "    <tr>\n",
              "      <th>max</th>\n",
              "      <td>9.819538</td>\n",
              "      <td>24.500000</td>\n",
              "    </tr>\n",
              "  </tbody>\n",
              "</table>\n",
              "</div>\n",
              "      <button class=\"colab-df-convert\" onclick=\"convertToInteractive('df-8bf17614-5f68-48fe-b302-83daa73320f0')\"\n",
              "              title=\"Convert this dataframe to an interactive table.\"\n",
              "              style=\"display:none;\">\n",
              "        \n",
              "  <svg xmlns=\"http://www.w3.org/2000/svg\" height=\"24px\"viewBox=\"0 0 24 24\"\n",
              "       width=\"24px\">\n",
              "    <path d=\"M0 0h24v24H0V0z\" fill=\"none\"/>\n",
              "    <path d=\"M18.56 5.44l.94 2.06.94-2.06 2.06-.94-2.06-.94-.94-2.06-.94 2.06-2.06.94zm-11 1L8.5 8.5l.94-2.06 2.06-.94-2.06-.94L8.5 2.5l-.94 2.06-2.06.94zm10 10l.94 2.06.94-2.06 2.06-.94-2.06-.94-.94-2.06-.94 2.06-2.06.94z\"/><path d=\"M17.41 7.96l-1.37-1.37c-.4-.4-.92-.59-1.43-.59-.52 0-1.04.2-1.43.59L10.3 9.45l-7.72 7.72c-.78.78-.78 2.05 0 2.83L4 21.41c.39.39.9.59 1.41.59.51 0 1.02-.2 1.41-.59l7.78-7.78 2.81-2.81c.8-.78.8-2.07 0-2.86zM5.41 20L4 18.59l7.72-7.72 1.47 1.35L5.41 20z\"/>\n",
              "  </svg>\n",
              "      </button>\n",
              "      \n",
              "  <style>\n",
              "    .colab-df-container {\n",
              "      display:flex;\n",
              "      flex-wrap:wrap;\n",
              "      gap: 12px;\n",
              "    }\n",
              "\n",
              "    .colab-df-convert {\n",
              "      background-color: #E8F0FE;\n",
              "      border: none;\n",
              "      border-radius: 50%;\n",
              "      cursor: pointer;\n",
              "      display: none;\n",
              "      fill: #1967D2;\n",
              "      height: 32px;\n",
              "      padding: 0 0 0 0;\n",
              "      width: 32px;\n",
              "    }\n",
              "\n",
              "    .colab-df-convert:hover {\n",
              "      background-color: #E2EBFA;\n",
              "      box-shadow: 0px 1px 2px rgba(60, 64, 67, 0.3), 0px 1px 3px 1px rgba(60, 64, 67, 0.15);\n",
              "      fill: #174EA6;\n",
              "    }\n",
              "\n",
              "    [theme=dark] .colab-df-convert {\n",
              "      background-color: #3B4455;\n",
              "      fill: #D2E3FC;\n",
              "    }\n",
              "\n",
              "    [theme=dark] .colab-df-convert:hover {\n",
              "      background-color: #434B5C;\n",
              "      box-shadow: 0px 1px 3px 1px rgba(0, 0, 0, 0.15);\n",
              "      filter: drop-shadow(0px 1px 2px rgba(0, 0, 0, 0.3));\n",
              "      fill: #FFFFFF;\n",
              "    }\n",
              "  </style>\n",
              "\n",
              "      <script>\n",
              "        const buttonEl =\n",
              "          document.querySelector('#df-8bf17614-5f68-48fe-b302-83daa73320f0 button.colab-df-convert');\n",
              "        buttonEl.style.display =\n",
              "          google.colab.kernel.accessAllowed ? 'block' : 'none';\n",
              "\n",
              "        async function convertToInteractive(key) {\n",
              "          const element = document.querySelector('#df-8bf17614-5f68-48fe-b302-83daa73320f0');\n",
              "          const dataTable =\n",
              "            await google.colab.kernel.invokeFunction('convertToInteractive',\n",
              "                                                     [key], {});\n",
              "          if (!dataTable) return;\n",
              "\n",
              "          const docLinkHtml = 'Like what you see? Visit the ' +\n",
              "            '<a target=\"_blank\" href=https://colab.research.google.com/notebooks/data_table.ipynb>data table notebook</a>'\n",
              "            + ' to learn more about interactive tables.';\n",
              "          element.innerHTML = '';\n",
              "          dataTable['output_type'] = 'display_data';\n",
              "          await google.colab.output.renderOutput(dataTable, element);\n",
              "          const docLink = document.createElement('div');\n",
              "          docLink.innerHTML = docLinkHtml;\n",
              "          element.appendChild(docLink);\n",
              "        }\n",
              "      </script>\n",
              "    </div>\n",
              "  </div>\n",
              "  "
            ]
          },
          "metadata": {},
          "execution_count": 4
        }
      ]
    },
    {
      "cell_type": "code",
      "source": [
        "df1.describe()"
      ],
      "metadata": {
        "id": "6Vq4BPxmsI2L",
        "colab": {
          "base_uri": "https://localhost:8080/",
          "height": 300
        },
        "outputId": "676659d6-45ff-406b-89e5-fb9db7d8c393"
      },
      "execution_count": null,
      "outputs": [
        {
          "output_type": "execute_result",
          "data": {
            "text/plain": [
              "       How much sleep do you get in a day?        TOS\n",
              "count                            39.000000  39.000000\n",
              "mean                              6.465055  15.526496\n",
              "std                               1.212115   5.046817\n",
              "min                               3.199589   2.000000\n",
              "25%                               6.112352  13.000000\n",
              "50%                               6.497537  14.000000\n",
              "75%                               6.897980  15.500000\n",
              "max                               9.811279  24.500000"
            ],
            "text/html": [
              "\n",
              "  <div id=\"df-a931dbee-8f1d-4ac0-a4ae-ed420435d843\">\n",
              "    <div class=\"colab-df-container\">\n",
              "      <div>\n",
              "<style scoped>\n",
              "    .dataframe tbody tr th:only-of-type {\n",
              "        vertical-align: middle;\n",
              "    }\n",
              "\n",
              "    .dataframe tbody tr th {\n",
              "        vertical-align: top;\n",
              "    }\n",
              "\n",
              "    .dataframe thead th {\n",
              "        text-align: right;\n",
              "    }\n",
              "</style>\n",
              "<table border=\"1\" class=\"dataframe\">\n",
              "  <thead>\n",
              "    <tr style=\"text-align: right;\">\n",
              "      <th></th>\n",
              "      <th>How much sleep do you get in a day?</th>\n",
              "      <th>TOS</th>\n",
              "    </tr>\n",
              "  </thead>\n",
              "  <tbody>\n",
              "    <tr>\n",
              "      <th>count</th>\n",
              "      <td>39.000000</td>\n",
              "      <td>39.000000</td>\n",
              "    </tr>\n",
              "    <tr>\n",
              "      <th>mean</th>\n",
              "      <td>6.465055</td>\n",
              "      <td>15.526496</td>\n",
              "    </tr>\n",
              "    <tr>\n",
              "      <th>std</th>\n",
              "      <td>1.212115</td>\n",
              "      <td>5.046817</td>\n",
              "    </tr>\n",
              "    <tr>\n",
              "      <th>min</th>\n",
              "      <td>3.199589</td>\n",
              "      <td>2.000000</td>\n",
              "    </tr>\n",
              "    <tr>\n",
              "      <th>25%</th>\n",
              "      <td>6.112352</td>\n",
              "      <td>13.000000</td>\n",
              "    </tr>\n",
              "    <tr>\n",
              "      <th>50%</th>\n",
              "      <td>6.497537</td>\n",
              "      <td>14.000000</td>\n",
              "    </tr>\n",
              "    <tr>\n",
              "      <th>75%</th>\n",
              "      <td>6.897980</td>\n",
              "      <td>15.500000</td>\n",
              "    </tr>\n",
              "    <tr>\n",
              "      <th>max</th>\n",
              "      <td>9.811279</td>\n",
              "      <td>24.500000</td>\n",
              "    </tr>\n",
              "  </tbody>\n",
              "</table>\n",
              "</div>\n",
              "      <button class=\"colab-df-convert\" onclick=\"convertToInteractive('df-a931dbee-8f1d-4ac0-a4ae-ed420435d843')\"\n",
              "              title=\"Convert this dataframe to an interactive table.\"\n",
              "              style=\"display:none;\">\n",
              "        \n",
              "  <svg xmlns=\"http://www.w3.org/2000/svg\" height=\"24px\"viewBox=\"0 0 24 24\"\n",
              "       width=\"24px\">\n",
              "    <path d=\"M0 0h24v24H0V0z\" fill=\"none\"/>\n",
              "    <path d=\"M18.56 5.44l.94 2.06.94-2.06 2.06-.94-2.06-.94-.94-2.06-.94 2.06-2.06.94zm-11 1L8.5 8.5l.94-2.06 2.06-.94-2.06-.94L8.5 2.5l-.94 2.06-2.06.94zm10 10l.94 2.06.94-2.06 2.06-.94-2.06-.94-.94-2.06-.94 2.06-2.06.94z\"/><path d=\"M17.41 7.96l-1.37-1.37c-.4-.4-.92-.59-1.43-.59-.52 0-1.04.2-1.43.59L10.3 9.45l-7.72 7.72c-.78.78-.78 2.05 0 2.83L4 21.41c.39.39.9.59 1.41.59.51 0 1.02-.2 1.41-.59l7.78-7.78 2.81-2.81c.8-.78.8-2.07 0-2.86zM5.41 20L4 18.59l7.72-7.72 1.47 1.35L5.41 20z\"/>\n",
              "  </svg>\n",
              "      </button>\n",
              "      \n",
              "  <style>\n",
              "    .colab-df-container {\n",
              "      display:flex;\n",
              "      flex-wrap:wrap;\n",
              "      gap: 12px;\n",
              "    }\n",
              "\n",
              "    .colab-df-convert {\n",
              "      background-color: #E8F0FE;\n",
              "      border: none;\n",
              "      border-radius: 50%;\n",
              "      cursor: pointer;\n",
              "      display: none;\n",
              "      fill: #1967D2;\n",
              "      height: 32px;\n",
              "      padding: 0 0 0 0;\n",
              "      width: 32px;\n",
              "    }\n",
              "\n",
              "    .colab-df-convert:hover {\n",
              "      background-color: #E2EBFA;\n",
              "      box-shadow: 0px 1px 2px rgba(60, 64, 67, 0.3), 0px 1px 3px 1px rgba(60, 64, 67, 0.15);\n",
              "      fill: #174EA6;\n",
              "    }\n",
              "\n",
              "    [theme=dark] .colab-df-convert {\n",
              "      background-color: #3B4455;\n",
              "      fill: #D2E3FC;\n",
              "    }\n",
              "\n",
              "    [theme=dark] .colab-df-convert:hover {\n",
              "      background-color: #434B5C;\n",
              "      box-shadow: 0px 1px 3px 1px rgba(0, 0, 0, 0.15);\n",
              "      filter: drop-shadow(0px 1px 2px rgba(0, 0, 0, 0.3));\n",
              "      fill: #FFFFFF;\n",
              "    }\n",
              "  </style>\n",
              "\n",
              "      <script>\n",
              "        const buttonEl =\n",
              "          document.querySelector('#df-a931dbee-8f1d-4ac0-a4ae-ed420435d843 button.colab-df-convert');\n",
              "        buttonEl.style.display =\n",
              "          google.colab.kernel.accessAllowed ? 'block' : 'none';\n",
              "\n",
              "        async function convertToInteractive(key) {\n",
              "          const element = document.querySelector('#df-a931dbee-8f1d-4ac0-a4ae-ed420435d843');\n",
              "          const dataTable =\n",
              "            await google.colab.kernel.invokeFunction('convertToInteractive',\n",
              "                                                     [key], {});\n",
              "          if (!dataTable) return;\n",
              "\n",
              "          const docLinkHtml = 'Like what you see? Visit the ' +\n",
              "            '<a target=\"_blank\" href=https://colab.research.google.com/notebooks/data_table.ipynb>data table notebook</a>'\n",
              "            + ' to learn more about interactive tables.';\n",
              "          element.innerHTML = '';\n",
              "          dataTable['output_type'] = 'display_data';\n",
              "          await google.colab.output.renderOutput(dataTable, element);\n",
              "          const docLink = document.createElement('div');\n",
              "          docLink.innerHTML = docLinkHtml;\n",
              "          element.appendChild(docLink);\n",
              "        }\n",
              "      </script>\n",
              "    </div>\n",
              "  </div>\n",
              "  "
            ]
          },
          "metadata": {},
          "execution_count": 5
        }
      ]
    },
    {
      "cell_type": "code",
      "source": [
        "\n",
        "df2.describe()\n"
      ],
      "metadata": {
        "id": "XJ77GQsVsehO",
        "colab": {
          "base_uri": "https://localhost:8080/",
          "height": 300
        },
        "outputId": "119d9425-6f07-4640-a0ed-f8c83ba90269"
      },
      "execution_count": null,
      "outputs": [
        {
          "output_type": "execute_result",
          "data": {
            "text/plain": [
              "       How much sleep do you get in a day?        TOS\n",
              "count                            34.000000  34.000000\n",
              "mean                              6.578082  14.367647\n",
              "std                               0.937139   4.885521\n",
              "min                               4.878099   1.000000\n",
              "25%                               6.214373  13.000000\n",
              "50%                               6.430458  14.000000\n",
              "75%                               6.738214  15.875000\n",
              "max                               9.958100  24.000000"
            ],
            "text/html": [
              "\n",
              "  <div id=\"df-eee9b1ee-e93f-4fa3-bb73-fe2f546b5b85\">\n",
              "    <div class=\"colab-df-container\">\n",
              "      <div>\n",
              "<style scoped>\n",
              "    .dataframe tbody tr th:only-of-type {\n",
              "        vertical-align: middle;\n",
              "    }\n",
              "\n",
              "    .dataframe tbody tr th {\n",
              "        vertical-align: top;\n",
              "    }\n",
              "\n",
              "    .dataframe thead th {\n",
              "        text-align: right;\n",
              "    }\n",
              "</style>\n",
              "<table border=\"1\" class=\"dataframe\">\n",
              "  <thead>\n",
              "    <tr style=\"text-align: right;\">\n",
              "      <th></th>\n",
              "      <th>How much sleep do you get in a day?</th>\n",
              "      <th>TOS</th>\n",
              "    </tr>\n",
              "  </thead>\n",
              "  <tbody>\n",
              "    <tr>\n",
              "      <th>count</th>\n",
              "      <td>34.000000</td>\n",
              "      <td>34.000000</td>\n",
              "    </tr>\n",
              "    <tr>\n",
              "      <th>mean</th>\n",
              "      <td>6.578082</td>\n",
              "      <td>14.367647</td>\n",
              "    </tr>\n",
              "    <tr>\n",
              "      <th>std</th>\n",
              "      <td>0.937139</td>\n",
              "      <td>4.885521</td>\n",
              "    </tr>\n",
              "    <tr>\n",
              "      <th>min</th>\n",
              "      <td>4.878099</td>\n",
              "      <td>1.000000</td>\n",
              "    </tr>\n",
              "    <tr>\n",
              "      <th>25%</th>\n",
              "      <td>6.214373</td>\n",
              "      <td>13.000000</td>\n",
              "    </tr>\n",
              "    <tr>\n",
              "      <th>50%</th>\n",
              "      <td>6.430458</td>\n",
              "      <td>14.000000</td>\n",
              "    </tr>\n",
              "    <tr>\n",
              "      <th>75%</th>\n",
              "      <td>6.738214</td>\n",
              "      <td>15.875000</td>\n",
              "    </tr>\n",
              "    <tr>\n",
              "      <th>max</th>\n",
              "      <td>9.958100</td>\n",
              "      <td>24.000000</td>\n",
              "    </tr>\n",
              "  </tbody>\n",
              "</table>\n",
              "</div>\n",
              "      <button class=\"colab-df-convert\" onclick=\"convertToInteractive('df-eee9b1ee-e93f-4fa3-bb73-fe2f546b5b85')\"\n",
              "              title=\"Convert this dataframe to an interactive table.\"\n",
              "              style=\"display:none;\">\n",
              "        \n",
              "  <svg xmlns=\"http://www.w3.org/2000/svg\" height=\"24px\"viewBox=\"0 0 24 24\"\n",
              "       width=\"24px\">\n",
              "    <path d=\"M0 0h24v24H0V0z\" fill=\"none\"/>\n",
              "    <path d=\"M18.56 5.44l.94 2.06.94-2.06 2.06-.94-2.06-.94-.94-2.06-.94 2.06-2.06.94zm-11 1L8.5 8.5l.94-2.06 2.06-.94-2.06-.94L8.5 2.5l-.94 2.06-2.06.94zm10 10l.94 2.06.94-2.06 2.06-.94-2.06-.94-.94-2.06-.94 2.06-2.06.94z\"/><path d=\"M17.41 7.96l-1.37-1.37c-.4-.4-.92-.59-1.43-.59-.52 0-1.04.2-1.43.59L10.3 9.45l-7.72 7.72c-.78.78-.78 2.05 0 2.83L4 21.41c.39.39.9.59 1.41.59.51 0 1.02-.2 1.41-.59l7.78-7.78 2.81-2.81c.8-.78.8-2.07 0-2.86zM5.41 20L4 18.59l7.72-7.72 1.47 1.35L5.41 20z\"/>\n",
              "  </svg>\n",
              "      </button>\n",
              "      \n",
              "  <style>\n",
              "    .colab-df-container {\n",
              "      display:flex;\n",
              "      flex-wrap:wrap;\n",
              "      gap: 12px;\n",
              "    }\n",
              "\n",
              "    .colab-df-convert {\n",
              "      background-color: #E8F0FE;\n",
              "      border: none;\n",
              "      border-radius: 50%;\n",
              "      cursor: pointer;\n",
              "      display: none;\n",
              "      fill: #1967D2;\n",
              "      height: 32px;\n",
              "      padding: 0 0 0 0;\n",
              "      width: 32px;\n",
              "    }\n",
              "\n",
              "    .colab-df-convert:hover {\n",
              "      background-color: #E2EBFA;\n",
              "      box-shadow: 0px 1px 2px rgba(60, 64, 67, 0.3), 0px 1px 3px 1px rgba(60, 64, 67, 0.15);\n",
              "      fill: #174EA6;\n",
              "    }\n",
              "\n",
              "    [theme=dark] .colab-df-convert {\n",
              "      background-color: #3B4455;\n",
              "      fill: #D2E3FC;\n",
              "    }\n",
              "\n",
              "    [theme=dark] .colab-df-convert:hover {\n",
              "      background-color: #434B5C;\n",
              "      box-shadow: 0px 1px 3px 1px rgba(0, 0, 0, 0.15);\n",
              "      filter: drop-shadow(0px 1px 2px rgba(0, 0, 0, 0.3));\n",
              "      fill: #FFFFFF;\n",
              "    }\n",
              "  </style>\n",
              "\n",
              "      <script>\n",
              "        const buttonEl =\n",
              "          document.querySelector('#df-eee9b1ee-e93f-4fa3-bb73-fe2f546b5b85 button.colab-df-convert');\n",
              "        buttonEl.style.display =\n",
              "          google.colab.kernel.accessAllowed ? 'block' : 'none';\n",
              "\n",
              "        async function convertToInteractive(key) {\n",
              "          const element = document.querySelector('#df-eee9b1ee-e93f-4fa3-bb73-fe2f546b5b85');\n",
              "          const dataTable =\n",
              "            await google.colab.kernel.invokeFunction('convertToInteractive',\n",
              "                                                     [key], {});\n",
              "          if (!dataTable) return;\n",
              "\n",
              "          const docLinkHtml = 'Like what you see? Visit the ' +\n",
              "            '<a target=\"_blank\" href=https://colab.research.google.com/notebooks/data_table.ipynb>data table notebook</a>'\n",
              "            + ' to learn more about interactive tables.';\n",
              "          element.innerHTML = '';\n",
              "          dataTable['output_type'] = 'display_data';\n",
              "          await google.colab.output.renderOutput(dataTable, element);\n",
              "          const docLink = document.createElement('div');\n",
              "          docLink.innerHTML = docLinkHtml;\n",
              "          element.appendChild(docLink);\n",
              "        }\n",
              "      </script>\n",
              "    </div>\n",
              "  </div>\n",
              "  "
            ]
          },
          "metadata": {},
          "execution_count": 6
        }
      ]
    },
    {
      "cell_type": "code",
      "source": [
        "df3.describe()"
      ],
      "metadata": {
        "id": "WZMHMk15sdjb",
        "colab": {
          "base_uri": "https://localhost:8080/",
          "height": 300
        },
        "outputId": "60475494-24d6-492f-9220-7d29a1f43aa4"
      },
      "execution_count": null,
      "outputs": [
        {
          "output_type": "execute_result",
          "data": {
            "text/plain": [
              "       How much sleep do you get in a day?        TOS\n",
              "count                             8.000000   8.000000\n",
              "mean                              7.114196  15.218750\n",
              "std                               1.704296   4.203395\n",
              "min                               4.712343  11.000000\n",
              "25%                               6.074998  12.625000\n",
              "50%                               6.773000  14.250000\n",
              "75%                               8.386601  16.312500\n",
              "max                               9.463062  24.000000"
            ],
            "text/html": [
              "\n",
              "  <div id=\"df-31d5619f-d8f8-421a-bc85-eef5020d5698\">\n",
              "    <div class=\"colab-df-container\">\n",
              "      <div>\n",
              "<style scoped>\n",
              "    .dataframe tbody tr th:only-of-type {\n",
              "        vertical-align: middle;\n",
              "    }\n",
              "\n",
              "    .dataframe tbody tr th {\n",
              "        vertical-align: top;\n",
              "    }\n",
              "\n",
              "    .dataframe thead th {\n",
              "        text-align: right;\n",
              "    }\n",
              "</style>\n",
              "<table border=\"1\" class=\"dataframe\">\n",
              "  <thead>\n",
              "    <tr style=\"text-align: right;\">\n",
              "      <th></th>\n",
              "      <th>How much sleep do you get in a day?</th>\n",
              "      <th>TOS</th>\n",
              "    </tr>\n",
              "  </thead>\n",
              "  <tbody>\n",
              "    <tr>\n",
              "      <th>count</th>\n",
              "      <td>8.000000</td>\n",
              "      <td>8.000000</td>\n",
              "    </tr>\n",
              "    <tr>\n",
              "      <th>mean</th>\n",
              "      <td>7.114196</td>\n",
              "      <td>15.218750</td>\n",
              "    </tr>\n",
              "    <tr>\n",
              "      <th>std</th>\n",
              "      <td>1.704296</td>\n",
              "      <td>4.203395</td>\n",
              "    </tr>\n",
              "    <tr>\n",
              "      <th>min</th>\n",
              "      <td>4.712343</td>\n",
              "      <td>11.000000</td>\n",
              "    </tr>\n",
              "    <tr>\n",
              "      <th>25%</th>\n",
              "      <td>6.074998</td>\n",
              "      <td>12.625000</td>\n",
              "    </tr>\n",
              "    <tr>\n",
              "      <th>50%</th>\n",
              "      <td>6.773000</td>\n",
              "      <td>14.250000</td>\n",
              "    </tr>\n",
              "    <tr>\n",
              "      <th>75%</th>\n",
              "      <td>8.386601</td>\n",
              "      <td>16.312500</td>\n",
              "    </tr>\n",
              "    <tr>\n",
              "      <th>max</th>\n",
              "      <td>9.463062</td>\n",
              "      <td>24.000000</td>\n",
              "    </tr>\n",
              "  </tbody>\n",
              "</table>\n",
              "</div>\n",
              "      <button class=\"colab-df-convert\" onclick=\"convertToInteractive('df-31d5619f-d8f8-421a-bc85-eef5020d5698')\"\n",
              "              title=\"Convert this dataframe to an interactive table.\"\n",
              "              style=\"display:none;\">\n",
              "        \n",
              "  <svg xmlns=\"http://www.w3.org/2000/svg\" height=\"24px\"viewBox=\"0 0 24 24\"\n",
              "       width=\"24px\">\n",
              "    <path d=\"M0 0h24v24H0V0z\" fill=\"none\"/>\n",
              "    <path d=\"M18.56 5.44l.94 2.06.94-2.06 2.06-.94-2.06-.94-.94-2.06-.94 2.06-2.06.94zm-11 1L8.5 8.5l.94-2.06 2.06-.94-2.06-.94L8.5 2.5l-.94 2.06-2.06.94zm10 10l.94 2.06.94-2.06 2.06-.94-2.06-.94-.94-2.06-.94 2.06-2.06.94z\"/><path d=\"M17.41 7.96l-1.37-1.37c-.4-.4-.92-.59-1.43-.59-.52 0-1.04.2-1.43.59L10.3 9.45l-7.72 7.72c-.78.78-.78 2.05 0 2.83L4 21.41c.39.39.9.59 1.41.59.51 0 1.02-.2 1.41-.59l7.78-7.78 2.81-2.81c.8-.78.8-2.07 0-2.86zM5.41 20L4 18.59l7.72-7.72 1.47 1.35L5.41 20z\"/>\n",
              "  </svg>\n",
              "      </button>\n",
              "      \n",
              "  <style>\n",
              "    .colab-df-container {\n",
              "      display:flex;\n",
              "      flex-wrap:wrap;\n",
              "      gap: 12px;\n",
              "    }\n",
              "\n",
              "    .colab-df-convert {\n",
              "      background-color: #E8F0FE;\n",
              "      border: none;\n",
              "      border-radius: 50%;\n",
              "      cursor: pointer;\n",
              "      display: none;\n",
              "      fill: #1967D2;\n",
              "      height: 32px;\n",
              "      padding: 0 0 0 0;\n",
              "      width: 32px;\n",
              "    }\n",
              "\n",
              "    .colab-df-convert:hover {\n",
              "      background-color: #E2EBFA;\n",
              "      box-shadow: 0px 1px 2px rgba(60, 64, 67, 0.3), 0px 1px 3px 1px rgba(60, 64, 67, 0.15);\n",
              "      fill: #174EA6;\n",
              "    }\n",
              "\n",
              "    [theme=dark] .colab-df-convert {\n",
              "      background-color: #3B4455;\n",
              "      fill: #D2E3FC;\n",
              "    }\n",
              "\n",
              "    [theme=dark] .colab-df-convert:hover {\n",
              "      background-color: #434B5C;\n",
              "      box-shadow: 0px 1px 3px 1px rgba(0, 0, 0, 0.15);\n",
              "      filter: drop-shadow(0px 1px 2px rgba(0, 0, 0, 0.3));\n",
              "      fill: #FFFFFF;\n",
              "    }\n",
              "  </style>\n",
              "\n",
              "      <script>\n",
              "        const buttonEl =\n",
              "          document.querySelector('#df-31d5619f-d8f8-421a-bc85-eef5020d5698 button.colab-df-convert');\n",
              "        buttonEl.style.display =\n",
              "          google.colab.kernel.accessAllowed ? 'block' : 'none';\n",
              "\n",
              "        async function convertToInteractive(key) {\n",
              "          const element = document.querySelector('#df-31d5619f-d8f8-421a-bc85-eef5020d5698');\n",
              "          const dataTable =\n",
              "            await google.colab.kernel.invokeFunction('convertToInteractive',\n",
              "                                                     [key], {});\n",
              "          if (!dataTable) return;\n",
              "\n",
              "          const docLinkHtml = 'Like what you see? Visit the ' +\n",
              "            '<a target=\"_blank\" href=https://colab.research.google.com/notebooks/data_table.ipynb>data table notebook</a>'\n",
              "            + ' to learn more about interactive tables.';\n",
              "          element.innerHTML = '';\n",
              "          dataTable['output_type'] = 'display_data';\n",
              "          await google.colab.output.renderOutput(dataTable, element);\n",
              "          const docLink = document.createElement('div');\n",
              "          docLink.innerHTML = docLinkHtml;\n",
              "          element.appendChild(docLink);\n",
              "        }\n",
              "      </script>\n",
              "    </div>\n",
              "  </div>\n",
              "  "
            ]
          },
          "metadata": {},
          "execution_count": 7
        }
      ]
    },
    {
      "cell_type": "code",
      "source": [
        "df4.describe()"
      ],
      "metadata": {
        "id": "C-gc1eeoDko1",
        "colab": {
          "base_uri": "https://localhost:8080/",
          "height": 300
        },
        "outputId": "99cdf45e-3ed0-439a-cdc5-e253be75c360"
      },
      "execution_count": null,
      "outputs": [
        {
          "output_type": "execute_result",
          "data": {
            "text/plain": [
              "       How much sleep do you get in a day?       TOS\n",
              "count                             5.000000   5.00000\n",
              "mean                              6.253492  17.60000\n",
              "std                               0.601097   5.85662\n",
              "min                               5.328701  13.00000\n",
              "25%                               6.112957  13.00000\n",
              "50%                               6.414744  14.00000\n",
              "75%                               6.445139  24.00000\n",
              "max                               6.965919  24.00000"
            ],
            "text/html": [
              "\n",
              "  <div id=\"df-39bae167-aadf-4762-b7e7-44c376910a10\">\n",
              "    <div class=\"colab-df-container\">\n",
              "      <div>\n",
              "<style scoped>\n",
              "    .dataframe tbody tr th:only-of-type {\n",
              "        vertical-align: middle;\n",
              "    }\n",
              "\n",
              "    .dataframe tbody tr th {\n",
              "        vertical-align: top;\n",
              "    }\n",
              "\n",
              "    .dataframe thead th {\n",
              "        text-align: right;\n",
              "    }\n",
              "</style>\n",
              "<table border=\"1\" class=\"dataframe\">\n",
              "  <thead>\n",
              "    <tr style=\"text-align: right;\">\n",
              "      <th></th>\n",
              "      <th>How much sleep do you get in a day?</th>\n",
              "      <th>TOS</th>\n",
              "    </tr>\n",
              "  </thead>\n",
              "  <tbody>\n",
              "    <tr>\n",
              "      <th>count</th>\n",
              "      <td>5.000000</td>\n",
              "      <td>5.00000</td>\n",
              "    </tr>\n",
              "    <tr>\n",
              "      <th>mean</th>\n",
              "      <td>6.253492</td>\n",
              "      <td>17.60000</td>\n",
              "    </tr>\n",
              "    <tr>\n",
              "      <th>std</th>\n",
              "      <td>0.601097</td>\n",
              "      <td>5.85662</td>\n",
              "    </tr>\n",
              "    <tr>\n",
              "      <th>min</th>\n",
              "      <td>5.328701</td>\n",
              "      <td>13.00000</td>\n",
              "    </tr>\n",
              "    <tr>\n",
              "      <th>25%</th>\n",
              "      <td>6.112957</td>\n",
              "      <td>13.00000</td>\n",
              "    </tr>\n",
              "    <tr>\n",
              "      <th>50%</th>\n",
              "      <td>6.414744</td>\n",
              "      <td>14.00000</td>\n",
              "    </tr>\n",
              "    <tr>\n",
              "      <th>75%</th>\n",
              "      <td>6.445139</td>\n",
              "      <td>24.00000</td>\n",
              "    </tr>\n",
              "    <tr>\n",
              "      <th>max</th>\n",
              "      <td>6.965919</td>\n",
              "      <td>24.00000</td>\n",
              "    </tr>\n",
              "  </tbody>\n",
              "</table>\n",
              "</div>\n",
              "      <button class=\"colab-df-convert\" onclick=\"convertToInteractive('df-39bae167-aadf-4762-b7e7-44c376910a10')\"\n",
              "              title=\"Convert this dataframe to an interactive table.\"\n",
              "              style=\"display:none;\">\n",
              "        \n",
              "  <svg xmlns=\"http://www.w3.org/2000/svg\" height=\"24px\"viewBox=\"0 0 24 24\"\n",
              "       width=\"24px\">\n",
              "    <path d=\"M0 0h24v24H0V0z\" fill=\"none\"/>\n",
              "    <path d=\"M18.56 5.44l.94 2.06.94-2.06 2.06-.94-2.06-.94-.94-2.06-.94 2.06-2.06.94zm-11 1L8.5 8.5l.94-2.06 2.06-.94-2.06-.94L8.5 2.5l-.94 2.06-2.06.94zm10 10l.94 2.06.94-2.06 2.06-.94-2.06-.94-.94-2.06-.94 2.06-2.06.94z\"/><path d=\"M17.41 7.96l-1.37-1.37c-.4-.4-.92-.59-1.43-.59-.52 0-1.04.2-1.43.59L10.3 9.45l-7.72 7.72c-.78.78-.78 2.05 0 2.83L4 21.41c.39.39.9.59 1.41.59.51 0 1.02-.2 1.41-.59l7.78-7.78 2.81-2.81c.8-.78.8-2.07 0-2.86zM5.41 20L4 18.59l7.72-7.72 1.47 1.35L5.41 20z\"/>\n",
              "  </svg>\n",
              "      </button>\n",
              "      \n",
              "  <style>\n",
              "    .colab-df-container {\n",
              "      display:flex;\n",
              "      flex-wrap:wrap;\n",
              "      gap: 12px;\n",
              "    }\n",
              "\n",
              "    .colab-df-convert {\n",
              "      background-color: #E8F0FE;\n",
              "      border: none;\n",
              "      border-radius: 50%;\n",
              "      cursor: pointer;\n",
              "      display: none;\n",
              "      fill: #1967D2;\n",
              "      height: 32px;\n",
              "      padding: 0 0 0 0;\n",
              "      width: 32px;\n",
              "    }\n",
              "\n",
              "    .colab-df-convert:hover {\n",
              "      background-color: #E2EBFA;\n",
              "      box-shadow: 0px 1px 2px rgba(60, 64, 67, 0.3), 0px 1px 3px 1px rgba(60, 64, 67, 0.15);\n",
              "      fill: #174EA6;\n",
              "    }\n",
              "\n",
              "    [theme=dark] .colab-df-convert {\n",
              "      background-color: #3B4455;\n",
              "      fill: #D2E3FC;\n",
              "    }\n",
              "\n",
              "    [theme=dark] .colab-df-convert:hover {\n",
              "      background-color: #434B5C;\n",
              "      box-shadow: 0px 1px 3px 1px rgba(0, 0, 0, 0.15);\n",
              "      filter: drop-shadow(0px 1px 2px rgba(0, 0, 0, 0.3));\n",
              "      fill: #FFFFFF;\n",
              "    }\n",
              "  </style>\n",
              "\n",
              "      <script>\n",
              "        const buttonEl =\n",
              "          document.querySelector('#df-39bae167-aadf-4762-b7e7-44c376910a10 button.colab-df-convert');\n",
              "        buttonEl.style.display =\n",
              "          google.colab.kernel.accessAllowed ? 'block' : 'none';\n",
              "\n",
              "        async function convertToInteractive(key) {\n",
              "          const element = document.querySelector('#df-39bae167-aadf-4762-b7e7-44c376910a10');\n",
              "          const dataTable =\n",
              "            await google.colab.kernel.invokeFunction('convertToInteractive',\n",
              "                                                     [key], {});\n",
              "          if (!dataTable) return;\n",
              "\n",
              "          const docLinkHtml = 'Like what you see? Visit the ' +\n",
              "            '<a target=\"_blank\" href=https://colab.research.google.com/notebooks/data_table.ipynb>data table notebook</a>'\n",
              "            + ' to learn more about interactive tables.';\n",
              "          element.innerHTML = '';\n",
              "          dataTable['output_type'] = 'display_data';\n",
              "          await google.colab.output.renderOutput(dataTable, element);\n",
              "          const docLink = document.createElement('div');\n",
              "          docLink.innerHTML = docLinkHtml;\n",
              "          element.appendChild(docLink);\n",
              "        }\n",
              "      </script>\n",
              "    </div>\n",
              "  </div>\n",
              "  "
            ]
          },
          "metadata": {},
          "execution_count": 8
        }
      ]
    },
    {
      "cell_type": "code",
      "source": [
        "dff.loc[:,'How many times in a day, do you have caffeinated drinks or Tea?'] = 'yep'\n",
        "dff.describe()\n",
        "dff_copy = pd.concat([df0,dff])\n",
        "n2 = dff.describe().iloc[0,1]\n",
        "m2 = dff.describe().iloc[1,1]\n",
        "s2 = dff.describe().iloc[2,1]\n",
        "N2 = dff.describe().iloc[0,0]\n",
        "M2 = dff.describe().iloc[1,0]\n",
        "S2 = dff.describe().iloc[2,0]\n",
        "dff.describe()"
      ],
      "metadata": {
        "id": "8VHo8XejsXAb",
        "colab": {
          "base_uri": "https://localhost:8080/",
          "height": 300
        },
        "outputId": "c95d11d8-7207-4206-e585-3dd26fd06a25"
      },
      "execution_count": null,
      "outputs": [
        {
          "output_type": "execute_result",
          "data": {
            "text/plain": [
              "       How much sleep do you get in a day?        TOS\n",
              "count                            52.000000  52.000000\n",
              "mean                              6.544580  15.678526\n",
              "std                               1.259272   4.950354\n",
              "min                               3.199589   2.000000\n",
              "25%                               6.107303  13.000000\n",
              "50%                               6.489392  14.000000\n",
              "75%                               6.915474  16.500000\n",
              "max                               9.811279  24.500000"
            ],
            "text/html": [
              "\n",
              "  <div id=\"df-1918b6c6-4493-499c-92f9-be362564af71\">\n",
              "    <div class=\"colab-df-container\">\n",
              "      <div>\n",
              "<style scoped>\n",
              "    .dataframe tbody tr th:only-of-type {\n",
              "        vertical-align: middle;\n",
              "    }\n",
              "\n",
              "    .dataframe tbody tr th {\n",
              "        vertical-align: top;\n",
              "    }\n",
              "\n",
              "    .dataframe thead th {\n",
              "        text-align: right;\n",
              "    }\n",
              "</style>\n",
              "<table border=\"1\" class=\"dataframe\">\n",
              "  <thead>\n",
              "    <tr style=\"text-align: right;\">\n",
              "      <th></th>\n",
              "      <th>How much sleep do you get in a day?</th>\n",
              "      <th>TOS</th>\n",
              "    </tr>\n",
              "  </thead>\n",
              "  <tbody>\n",
              "    <tr>\n",
              "      <th>count</th>\n",
              "      <td>52.000000</td>\n",
              "      <td>52.000000</td>\n",
              "    </tr>\n",
              "    <tr>\n",
              "      <th>mean</th>\n",
              "      <td>6.544580</td>\n",
              "      <td>15.678526</td>\n",
              "    </tr>\n",
              "    <tr>\n",
              "      <th>std</th>\n",
              "      <td>1.259272</td>\n",
              "      <td>4.950354</td>\n",
              "    </tr>\n",
              "    <tr>\n",
              "      <th>min</th>\n",
              "      <td>3.199589</td>\n",
              "      <td>2.000000</td>\n",
              "    </tr>\n",
              "    <tr>\n",
              "      <th>25%</th>\n",
              "      <td>6.107303</td>\n",
              "      <td>13.000000</td>\n",
              "    </tr>\n",
              "    <tr>\n",
              "      <th>50%</th>\n",
              "      <td>6.489392</td>\n",
              "      <td>14.000000</td>\n",
              "    </tr>\n",
              "    <tr>\n",
              "      <th>75%</th>\n",
              "      <td>6.915474</td>\n",
              "      <td>16.500000</td>\n",
              "    </tr>\n",
              "    <tr>\n",
              "      <th>max</th>\n",
              "      <td>9.811279</td>\n",
              "      <td>24.500000</td>\n",
              "    </tr>\n",
              "  </tbody>\n",
              "</table>\n",
              "</div>\n",
              "      <button class=\"colab-df-convert\" onclick=\"convertToInteractive('df-1918b6c6-4493-499c-92f9-be362564af71')\"\n",
              "              title=\"Convert this dataframe to an interactive table.\"\n",
              "              style=\"display:none;\">\n",
              "        \n",
              "  <svg xmlns=\"http://www.w3.org/2000/svg\" height=\"24px\"viewBox=\"0 0 24 24\"\n",
              "       width=\"24px\">\n",
              "    <path d=\"M0 0h24v24H0V0z\" fill=\"none\"/>\n",
              "    <path d=\"M18.56 5.44l.94 2.06.94-2.06 2.06-.94-2.06-.94-.94-2.06-.94 2.06-2.06.94zm-11 1L8.5 8.5l.94-2.06 2.06-.94-2.06-.94L8.5 2.5l-.94 2.06-2.06.94zm10 10l.94 2.06.94-2.06 2.06-.94-2.06-.94-.94-2.06-.94 2.06-2.06.94z\"/><path d=\"M17.41 7.96l-1.37-1.37c-.4-.4-.92-.59-1.43-.59-.52 0-1.04.2-1.43.59L10.3 9.45l-7.72 7.72c-.78.78-.78 2.05 0 2.83L4 21.41c.39.39.9.59 1.41.59.51 0 1.02-.2 1.41-.59l7.78-7.78 2.81-2.81c.8-.78.8-2.07 0-2.86zM5.41 20L4 18.59l7.72-7.72 1.47 1.35L5.41 20z\"/>\n",
              "  </svg>\n",
              "      </button>\n",
              "      \n",
              "  <style>\n",
              "    .colab-df-container {\n",
              "      display:flex;\n",
              "      flex-wrap:wrap;\n",
              "      gap: 12px;\n",
              "    }\n",
              "\n",
              "    .colab-df-convert {\n",
              "      background-color: #E8F0FE;\n",
              "      border: none;\n",
              "      border-radius: 50%;\n",
              "      cursor: pointer;\n",
              "      display: none;\n",
              "      fill: #1967D2;\n",
              "      height: 32px;\n",
              "      padding: 0 0 0 0;\n",
              "      width: 32px;\n",
              "    }\n",
              "\n",
              "    .colab-df-convert:hover {\n",
              "      background-color: #E2EBFA;\n",
              "      box-shadow: 0px 1px 2px rgba(60, 64, 67, 0.3), 0px 1px 3px 1px rgba(60, 64, 67, 0.15);\n",
              "      fill: #174EA6;\n",
              "    }\n",
              "\n",
              "    [theme=dark] .colab-df-convert {\n",
              "      background-color: #3B4455;\n",
              "      fill: #D2E3FC;\n",
              "    }\n",
              "\n",
              "    [theme=dark] .colab-df-convert:hover {\n",
              "      background-color: #434B5C;\n",
              "      box-shadow: 0px 1px 3px 1px rgba(0, 0, 0, 0.15);\n",
              "      filter: drop-shadow(0px 1px 2px rgba(0, 0, 0, 0.3));\n",
              "      fill: #FFFFFF;\n",
              "    }\n",
              "  </style>\n",
              "\n",
              "      <script>\n",
              "        const buttonEl =\n",
              "          document.querySelector('#df-1918b6c6-4493-499c-92f9-be362564af71 button.colab-df-convert');\n",
              "        buttonEl.style.display =\n",
              "          google.colab.kernel.accessAllowed ? 'block' : 'none';\n",
              "\n",
              "        async function convertToInteractive(key) {\n",
              "          const element = document.querySelector('#df-1918b6c6-4493-499c-92f9-be362564af71');\n",
              "          const dataTable =\n",
              "            await google.colab.kernel.invokeFunction('convertToInteractive',\n",
              "                                                     [key], {});\n",
              "          if (!dataTable) return;\n",
              "\n",
              "          const docLinkHtml = 'Like what you see? Visit the ' +\n",
              "            '<a target=\"_blank\" href=https://colab.research.google.com/notebooks/data_table.ipynb>data table notebook</a>'\n",
              "            + ' to learn more about interactive tables.';\n",
              "          element.innerHTML = '';\n",
              "          dataTable['output_type'] = 'display_data';\n",
              "          await google.colab.output.renderOutput(dataTable, element);\n",
              "          const docLink = document.createElement('div');\n",
              "          docLink.innerHTML = docLinkHtml;\n",
              "          element.appendChild(docLink);\n",
              "        }\n",
              "      </script>\n",
              "    </div>\n",
              "  </div>\n",
              "  "
            ]
          },
          "metadata": {},
          "execution_count": 9
        }
      ]
    },
    {
      "cell_type": "code",
      "source": [
        "df['TOS'].describe()"
      ],
      "metadata": {
        "id": "e9I-6j52lyJb",
        "colab": {
          "base_uri": "https://localhost:8080/"
        },
        "outputId": "b6459e87-194b-4536-9888-4100c33c1547"
      },
      "execution_count": null,
      "outputs": [
        {
          "output_type": "execute_result",
          "data": {
            "text/plain": [
              "count    132.000000\n",
              "mean      15.201515\n",
              "std        5.004600\n",
              "min        1.000000\n",
              "25%       13.000000\n",
              "50%       14.000000\n",
              "75%       16.000000\n",
              "max       24.500000\n",
              "Name: TOS, dtype: float64"
            ]
          },
          "metadata": {},
          "execution_count": 10
        }
      ]
    },
    {
      "cell_type": "markdown",
      "source": [
        "## Normal distribution graph and confidence intervals"
      ],
      "metadata": {
        "id": "ORQDV9nsK2e8"
      }
    },
    {
      "cell_type": "markdown",
      "source": [
        "### Graph"
      ],
      "metadata": {
        "id": "sb1_U0fCPHef"
      }
    },
    {
      "cell_type": "code",
      "source": [
        "x_axis = np.arange(4.6, 9.4, 0.01)\n",
        "fig, ax = plt.subplots()\n",
        "df1.plot.kde(ax=ax, legend=False)\n",
        "ax.grid(axis='y')\n",
        "df1.plot.hist(density=True, ax=ax,legend = False)\n",
        "# df3.plot.hist()\n",
        "# df3.plot.kde()"
      ],
      "metadata": {
        "id": "qkm7x09Z4A6x",
        "colab": {
          "base_uri": "https://localhost:8080/",
          "height": 282
        },
        "outputId": "91302be1-39e3-44e7-940d-95f05678870a"
      },
      "execution_count": null,
      "outputs": [
        {
          "output_type": "execute_result",
          "data": {
            "text/plain": [
              "<matplotlib.axes._subplots.AxesSubplot at 0x7fc4b19108d0>"
            ]
          },
          "metadata": {},
          "execution_count": 11
        },
        {
          "output_type": "display_data",
          "data": {
            "text/plain": [
              "<Figure size 432x288 with 1 Axes>"
            ],
            "image/png": "[encoded data removed]"
          },
          "metadata": {
            "needs_background": "light"
          }
        }
      ]
    },
    {
      "cell_type": "code",
      "source": [
        "x_axis = np.arange(4.6, 9.4, 0.01)\n",
        "plt.figure(figsize=(15,8))\n",
        "plt.plot(x_axis, norm.pdf(x_axis, df[\"How much sleep do you get in a day?\"].mean(), df[\"How much sleep do you get in a day?\"].std()),label='for all caffeine content')\n",
        "plt.plot(x_axis, norm.pdf(x_axis, df0[\"How much sleep do you get in a day?\"].mean(), df0[\"How much sleep do you get in a day?\"].std()),label='No caffeine')\n",
        "plt.plot(x_axis, norm.pdf(x_axis, df1[\"How much sleep do you get in a day?\"].mean(), df1[\"How much sleep do you get in a day?\"].std()),label='1 drink')\n",
        "plt.plot(x_axis, norm.pdf(x_axis, df2[\"How much sleep do you get in a day?\"].mean(), df2[\"How much sleep do you get in a day?\"].std()),label='2 drink')\n",
        "plt.plot(x_axis, norm.pdf(x_axis, df3[\"How much sleep do you get in a day?\"].mean(), df3[\"How much sleep do you get in a day?\"].std()),label='3 drink')\n",
        "plt.plot(x_axis, norm.pdf(x_axis, df4[\"How much sleep do you get in a day?\"].mean(), df4[\"How much sleep do you get in a day?\"].std()),label='4 or > 4 drinks')\n",
        "plt.legend()\n",
        "plt.show()"
      ],
      "metadata": {
        "id": "qQbrRm1FKv9j",
        "colab": {
          "base_uri": "https://localhost:8080/",
          "height": 483
        },
        "outputId": "72db9d10-2704-457e-b71d-71a76b0b8633"
      },
      "execution_count": null,
      "outputs": [
        {
          "output_type": "display_data",
          "data": {
            "text/plain": [
              "<Figure size 1080x576 with 1 Axes>"
            ],
            "image/png": "[encoded data removed]"
          },
          "metadata": {
            "needs_background": "light"
          }
        }
      ]
    },
    {
      "cell_type": "markdown",
      "source": [
        "### Confidence Interval"
      ],
      "metadata": {
        "id": "j4dTHNjqPOAx"
      }
    },
    {
      "cell_type": "code",
      "source": [
        "\n",
        "def ci(x,confidence):\n",
        "  m = x.mean() \n",
        "  s = x.std() \n",
        "  dof = len(x)-1 \n",
        "  t_crit = np.abs(t.ppf((1-confidence)/2,dof))\n",
        "  # print(t_crit)\n",
        "  # print(m)\n",
        "  # print(s)\n",
        "  return (m-s*t_crit/np.sqrt(len(x)), m+s*t_crit/np.sqrt(len(x)))\n",
        "print(\"We can say with 95% confidence that the number of hours\" \n",
        "                        +\" of sleep is in the interval\",\n",
        "                         ci(np.array(df['How much sleep do you get in a day?']),0.95))\n",
        "\n",
        "print(\"We can say with 95% confidencethat the number of hours of sleep of a person\"\n",
        "                        +\" who \" + \"\\033[1m\" + \"doesnot take any caffeine daily\" + \"\\033[0;0m\" + \" is in the interval\",\n",
        "                         ci(np.array(df0['How much sleep do you get in a day?']),0.95))\n",
        "\n",
        "print(\"We can say with 95% confidencethat the number of hours of sleep of a person\"\n",
        "                        +\" who \" + \"\\033[1m\" + \"take one caffeinated drink a day\" + \"\\033[0;0m\" + \" is in the interval\",\n",
        "                         ci(np.array(df1['How much sleep do you get in a day?']),0.95))\n",
        "\n",
        "print(\"We can say with 95% confidencethat the number of hours of sleep of a person\"\n",
        "                        +\" who \" + \"\\033[1m\" + \"take two caffeinated drinks a day\" + \"\\033[0;0m\" + \" is in the interval\",\n",
        "                         ci(np.array(df2['How much sleep do you get in a day?']),0.95))\n",
        "\n",
        "print(\"We can say with 95% confidencethat the number of hours of sleep of a person\"\n",
        "                        +\" who \" + \"\\033[1m\" + \"take three caffeinated drinks a day\" + \"\\033[0;0m\" + \" is in the interval\",\n",
        "                         ci(np.array(df3['How much sleep do you get in a day?']),0.95))\n",
        "\n",
        "print(\"We can say with 95% confidencethat the number of hours of sleep of a person\"\n",
        "                        +\" who \" + \"\\033[1m\" + \"take greater than three caffeinated drinks a day\" + \"\\033[0;0m\" + \" is in the interval\",\n",
        "                         ci(np.array(df4['How much sleep do you get in a day?']),0.95))"
      ],
      "metadata": {
        "id": "at1skFuAPDeQ",
        "colab": {
          "base_uri": "https://localhost:8080/"
        },
        "outputId": "53ff6f54-0d6a-4c09-fe2e-2cb898218126"
      },
      "execution_count": null,
      "outputs": [
        {
          "output_type": "stream",
          "name": "stdout",
          "text": [
            "We can say with 95% confidence that the number of hours of sleep is in the interval (6.426142462239211, 6.85728482903702)\n",
            "We can say with 95% confidencethat the number of hours of sleep of a person who \u001b[1mdoesnot take any caffeine daily\u001b[0;0m is in the interval (6.371135830008422, 7.225961847009575)\n",
            "We can say with 95% confidencethat the number of hours of sleep of a person who \u001b[1mtake one caffeinated drink a day\u001b[0;0m is in the interval (6.077203257483464, 6.85290723792892)\n",
            "We can say with 95% confidencethat the number of hours of sleep of a person who \u001b[1mtake two caffeinated drinks a day\u001b[0;0m is in the interval (6.255942897939486, 6.900220276132138)\n",
            "We can say with 95% confidencethat the number of hours of sleep of a person who \u001b[1mtake three caffeinated drinks a day\u001b[0;0m is in the interval (5.78139223315505, 8.446999249309597)\n",
            "We can say with 95% confidencethat the number of hours of sleep of a person who \u001b[1mtake greater than three caffeinated drinks a day\u001b[0;0m is in the interval (5.585926367101903, 6.921057674177979)\n"
          ]
        }
      ]
    },
    {
      "cell_type": "markdown",
      "source": [
        "## Sea born box-plot"
      ],
      "metadata": {
        "id": "z12N6gDM_FZf"
      }
    },
    {
      "cell_type": "code",
      "source": [
        "plt.figure(figsize=(15,8))\n",
        "df_copy = df.copy()\n",
        "df_copy.replace(['4 or more than 4 times a day'],['More than 3 times a day'], inplace=True)\n",
        "for i in range(df_copy.shape[0]):\n",
        "  if df_copy.loc[i,'How many times in a day, do you have caffeinated drinks or Tea?'] == '4 or more than 4 times a day':\n",
        "    df_copy.loc[i,'How many times in a day, do you have caffeinated drinks or Tea?'] == 'More than 3 times a day'\n",
        "# df_copy.head(100)\n",
        "ax = sns.boxplot(x=\"How many times in a day, do you have caffeinated drinks or Tea?\",\n",
        "                    y=\"How much sleep do you get in a day?\", data=df_copy,\n",
        "                    order = [\"No caffeine\",\"1 time, or less\",\"2 times a day\",\"More than 3 times a day\"])\n",
        "plt.title('Amount of sleep Vs Caffeine intake')\n",
        "plt.show()"
      ],
      "metadata": {
        "id": "td60y3QhA3ei",
        "colab": {
          "base_uri": "https://localhost:8080/",
          "height": 513
        },
        "outputId": "647d7b43-a9fb-4ac8-fc29-213fbf09e263"
      },
      "execution_count": null,
      "outputs": [
        {
          "output_type": "display_data",
          "data": {
            "text/plain": [
              "<Figure size 1080x576 with 1 Axes>"
            ],
            "image/png": "[encoded data removed]"
          },
          "metadata": {
            "needs_background": "light"
          }
        }
      ]
    },
    {
      "cell_type": "code",
      "source": [
        "plt.figure(figsize=(10,8))\n",
        "ax = sns.boxplot(x=\"How many times in a day, do you have caffeinated drinks or Tea?\",\n",
        "                    y=\"How much sleep do you get in a day?\", data=dff_copy,\n",
        "                    order = [\"No caffeine\",\"yep\"])\n",
        "plt.title('Amount of sleep Vs Caffeine intake')\n",
        "ax.set_xticklabels(['Caffeine Intake = False' , 'Caffiene Intake = True'])\n",
        "plt.show()"
      ],
      "metadata": {
        "id": "nkno2FsTtg4R",
        "colab": {
          "base_uri": "https://localhost:8080/",
          "height": 513
        },
        "outputId": "1a157974-4e93-4d38-c8c8-bbd053e3f18b"
      },
      "execution_count": null,
      "outputs": [
        {
          "output_type": "display_data",
          "data": {
            "text/plain": [
              "<Figure size 720x576 with 1 Axes>"
            ],
            "image/png": "[encoded data removed]"
          },
          "metadata": {
            "needs_background": "light"
          }
        }
      ]
    },
    {
      "cell_type": "code",
      "source": [
        "# plt.figure(figsize=(10,8))\n",
        "fig, ax = plt.subplots(figsize=(12, 8))\n",
        "\n",
        "ax = sns.boxplot(x=\"How many times in a day, do you have caffeinated drinks or Tea?\",\n",
        "                    y=\"TOS\", data=df_copy,\n",
        "                    order = [\"No caffeine\",\"1 time, or less\",\"2 times a day\",\"More than 3 times a day\"])\n",
        "plt.title('Time of sleep Vs Caffeine intake')\n",
        "ax.set_yticklabels([' ', '12 PM' , '5 PM' , '10 PM' , '3 AM', '8 AM', '1 PM'])\n",
        "plt.show()"
      ],
      "metadata": {
        "id": "jwRZlOv2nxAh",
        "colab": {
          "base_uri": "https://localhost:8080/",
          "height": 513
        },
        "outputId": "9ce85159-e0b2-45c0-b6a8-87e46420a405"
      },
      "execution_count": null,
      "outputs": [
        {
          "output_type": "display_data",
          "data": {
            "text/plain": [
              "<Figure size 864x576 with 1 Axes>"
            ],
            "image/png": "[encoded data removed]"
          },
          "metadata": {
            "needs_background": "light"
          }
        }
      ]
    },
    {
      "cell_type": "code",
      "source": [
        "fig, ax = plt.subplots(figsize=(12, 8))\n",
        "\n",
        "ax = sns.boxplot(x=\"How many times in a day, do you have caffeinated drinks or Tea?\",\n",
        "                    y=\"TOS\", data=dff_copy,\n",
        "                    order = [\"No caffeine\",\"yep\"])\n",
        "plt.title('Time of sleep Vs Caffeine intake')\n",
        "ax.set_yticklabels([' ', '12 PM' , '5 PM' , '10 PM' , '3 AM', '8 AM', '1 PM'])\n",
        "plt.show()"
      ],
      "metadata": {
        "id": "aiB90QayukV0",
        "colab": {
          "base_uri": "https://localhost:8080/",
          "height": 513
        },
        "outputId": "bd32e18f-4031-459a-dcfc-90994c6c47bc"
      },
      "execution_count": null,
      "outputs": [
        {
          "output_type": "display_data",
          "data": {
            "text/plain": [
              "<Figure size 864x576 with 1 Axes>"
            ],
            "image/png": "[encoded data removed]"
          },
          "metadata": {
            "needs_background": "light"
          }
        }
      ]
    },
    {
      "cell_type": "markdown",
      "source": [
        "## Hypothesis and Hypothesis Testing\n",
        "\n",
        "#### $\\text{Questions for 5% i.e., α = 0.05}$ :\n",
        "1.   Is IITH students sleep atlest $6\\text{ hrs}$ on an average ?\n",
        "2.   Find out if students who take caffeine sleeps late ?\n",
        "3.   Find out if students who take caffeine sleep less ?\n",
        "\n"
      ],
      "metadata": {
        "id": "FInfnnZpvYWj"
      }
    },
    {
      "cell_type": "code",
      "source": [
        "# H0 :  m <= 6\n",
        "# Ha :  m  > 6\n",
        "alpha = 0.01\n",
        "test_statistic = (df['How much sleep do you get in a day?'].mean()-6)/(df['How much sleep do you get in a day?'].std()/math.sqrt(131))\n",
        "degoffre = 131\n",
        "print(df['How much sleep do you get in a day?'].mean())\n",
        "print(df['How much sleep do you get in a day?'].std())\n",
        "print(\"test statistic is \",test_statistic)\n",
        "print(\"t is \",abs(t.ppf(alpha,degoffre)))\n",
        "if test_statistic > abs(t.ppf(alpha,degoffre)):\n",
        "  print(f\"With a test statistic of {test_statistic} and critical value of {abs(t.ppf(alpha,degoffre))} at a {100*alpha}% level of significance, we have enough statistical evidence to reject the null hypothesis.\")\n",
        "  print(\"So, there is enough evidence to conclude that IITH students are getting more than 6hrs of sleep a day.\")\n",
        "else:\n",
        "  print(f\"With a test statistic of {test_statistic} and critical value of {abs(t.ppf(alpha,degoffre))} at a {100*alpha}% level of significance, we do not have enough statistical evidence to reject the null hypothesis.\")"
      ],
      "metadata": {
        "id": "iph3X78NjOlQ",
        "colab": {
          "base_uri": "https://localhost:8080/"
        },
        "outputId": "45267569-c3f0-4dae-9caa-e6555165b795"
      },
      "execution_count": null,
      "outputs": [
        {
          "output_type": "stream",
          "name": "stdout",
          "text": [
            "6.641713645638115\n",
            "1.2567541582377577\n",
            "test statistic is  5.844220473599824\n",
            "t is  2.35515039642141\n",
            "With a test statistic of 5.844220473599824 and critical value of 2.35515039642141 at a 1.0% level of significance, we have enough statistical evidence to reject the null hypothesis.\n",
            "So, there is enough evidence to conclude that IITH students are getting more than 6hrs of sleep a day.\n"
          ]
        }
      ]
    },
    {
      "cell_type": "code",
      "source": [
        "# Hypothesis testing for 1st question\n",
        "# H0 : m1 - m2 >= 0\n",
        "# Ha : m1 - m2 < 0 \n",
        "alpha = 0.05\n",
        "test_staistic = (m1-m2)/math.sqrt((pow(s1,2)/n1) + (pow(s2,2)/n2))\n",
        "def degreesOfFreedom(s1, s2, n1, n2):\n",
        "    s1 = s1**2\n",
        "    s2 = s2**2\n",
        "    df = (s1 / n1 + s2 / n2)**2 / ((s1 / n1)**2 / (n1 - 1) + (s2 / n2)**2 / (n2 - 1))\n",
        "    return(df)\n",
        "degf = round(degreesOfFreedom(s1,s2,n1,n2)) \n",
        "print(degf)\n",
        "print(\"test statistic is \",test_staistic)\n",
        "print(\"t is \",abs(t.ppf(alpha,degf)))\n",
        "if test_staistic <= -abs(t.ppf(alpha,degf)) :\n",
        "  print(\"Students who take caffeine sleep late than those who don't take caffeine\")\n",
        "else:\n",
        "  print(\"The evidence is insufficient to conclude that those who take caffeine sleeps late than those who don't take caffeine\")"
      ],
      "metadata": {
        "id": "eRIdFBAFvfgk",
        "colab": {
          "base_uri": "https://localhost:8080/"
        },
        "outputId": "be055d78-e6cb-43d1-8c57-812007945cff"
      },
      "execution_count": null,
      "outputs": [
        {
          "output_type": "stream",
          "name": "stdout",
          "text": [
            "93\n",
            "test statistic is  -0.3893836510105908\n",
            "t is  1.6614036736367146\n",
            "The evidence is insufficient to conclude that those who take caffeine sleeps late than those who don't take caffeine\n"
          ]
        }
      ]
    },
    {
      "cell_type": "code",
      "source": [
        "# Hypothesis testing for 2nd question\n",
        "# H0 : M1 - M2 <= 0\n",
        "# Ha : M1 - M2 > 0 \n",
        "alpha = 0.05\n",
        "test_staistic = (M1-M2)/math.sqrt((pow(S1,2)/n1) + (pow(S2,2)/n2))\n",
        "deggf = round(degreesOfFreedom(S1,S2,n1,n2))\n",
        "print(M1)\n",
        "print(M2)\n",
        "print(n1)\n",
        "print(n2)\n",
        "print(S1)\n",
        "print(S2)\n",
        "print(deggf) \n",
        "print(\"test statistic is \",test_staistic)\n",
        "print(\"t is \",abs(t.ppf(alpha,deggf)))\n",
        "if test_staistic <= -abs(t.ppf(alpha,deggf)) :\n",
        "  print(\"Students who take caffeine sleep less than those who don't take caffeine\")\n",
        "else:\n",
        "  print(\"The evidence is insufficient to conclude that those who take caffeine sleeps less than those who take caffeine\")"
      ],
      "metadata": {
        "id": "KD37SPoi50Kw",
        "colab": {
          "base_uri": "https://localhost:8080/"
        },
        "outputId": "510b8c77-f61a-45f0-c8ce-63f054d82e78"
      },
      "execution_count": null,
      "outputs": [
        {
          "output_type": "stream",
          "name": "stdout",
          "text": [
            "6.798548838508996\n",
            "6.544580397953841\n",
            "46.0\n",
            "52.0\n",
            "1.455182795444837\n",
            "1.2592721889121334\n",
            "90\n",
            "test statistic is  0.9180487079966966\n",
            "t is  1.661961083996941\n",
            "The evidence is insufficient to conclude that those who take caffeine sleeps less than those who take caffeine\n"
          ]
        }
      ]
    },
    {
      "cell_type": "code",
      "source": [
        "## H0 = S1**2 <= S2**2\n",
        "## Ha = S1**2  > S2**2\n",
        "alpha = 0.2\n",
        "test_staistic = S1**2 / S2**2\n",
        "print(\"test statistic is \",test_staistic)\n",
        "print(\"F is \",1/f.ppf(alpha,n1-1,n2-1))\n",
        "print(n1 - 1)\n",
        "print(n2 - 1)\n",
        "if test_staistic >= 1/f.ppf(alpha,n1-1,n2-1) :\n",
        "  print(\"Sleeping hours of those who take caffeine are more predectible(less variance) when compared with those who don't take caffeine\")\n",
        "else:\n",
        "  print(\"The evidence is insufficient to conclude \")"
      ],
      "metadata": {
        "id": "26JVeSzIIlaj",
        "colab": {
          "base_uri": "https://localhost:8080/"
        },
        "outputId": "6e9c098b-aa28-4654-c8d6-ea9d82380b6f"
      },
      "execution_count": null,
      "outputs": [
        {
          "output_type": "stream",
          "name": "stdout",
          "text": [
            "test statistic is  1.3353523615097638\n",
            "F is  1.2806973982256524\n",
            "45.0\n",
            "51.0\n",
            "Sleeping hours of those who take caffeine are more predectible(less variance) when compared with those who don't take caffeine\n"
          ]
        }
      ]
    },
    {
      "cell_type": "code",
      "source": [
        "print(degreesOfFreedom(0.252241,0.4361906,82,50))"
      ],
      "metadata": {
        "id": "lGrQNR5BPB_N",
        "colab": {
          "base_uri": "https://localhost:8080/"
        },
        "outputId": "ee5270f7-4d5d-4605-c931-8d4e0eeac2f0"
      },
      "execution_count": null,
      "outputs": [
        {
          "output_type": "stream",
          "name": "stdout",
          "text": [
            "69.27785458996388\n"
          ]
        }
      ]
    }
  ]
}